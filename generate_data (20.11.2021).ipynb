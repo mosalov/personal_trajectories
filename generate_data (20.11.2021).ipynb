{
 "cells": [
  {
   "cell_type": "markdown",
   "metadata": {
    "id": "8q7VV3Ln98ia"
   },
   "source": [
    "# Траектории студентов"
   ]
  },
  {
   "cell_type": "markdown",
   "metadata": {
    "id": "aOxgTcqb98ik"
   },
   "source": [
    "Загрузка библиотек"
   ]
  },
  {
   "cell_type": "code",
   "execution_count": 1,
   "metadata": {
    "executionInfo": {
     "elapsed": 417,
     "status": "ok",
     "timestamp": 1637427534452,
     "user": {
      "displayName": "Oleg Mosalov",
      "photoUrl": "https://lh3.googleusercontent.com/a-/AOh14Gho5LvO0-DMsmF0kUUFvDPLaw7rz4hB6NQ4ioUAvw=s64",
      "userId": "04469680880749721279"
     },
     "user_tz": -180
    },
    "id": "57S241WT98im"
   },
   "outputs": [],
   "source": [
    "import pandas as pd\n",
    "import matplotlib.pyplot as plt\n",
    "import math"
   ]
  },
  {
   "cell_type": "markdown",
   "metadata": {
    "id": "C9tR2yzN98iq"
   },
   "source": [
    "Загрузка файла"
   ]
  },
  {
   "cell_type": "code",
   "execution_count": 2,
   "metadata": {
    "executionInfo": {
     "elapsed": 14,
     "status": "ok",
     "timestamp": 1637427534967,
     "user": {
      "displayName": "Oleg Mosalov",
      "photoUrl": "https://lh3.googleusercontent.com/a-/AOh14Gho5LvO0-DMsmF0kUUFvDPLaw7rz4hB6NQ4ioUAvw=s64",
      "userId": "04469680880749721279"
     },
     "user_tz": -180
    },
    "id": "KAA9LHv798ir"
   },
   "outputs": [],
   "source": [
    "def load_data(filename):\n",
    "    df = pd.read_excel(filename)\n",
    "    return df"
   ]
  },
  {
   "cell_type": "code",
   "execution_count": 3,
   "metadata": {
    "executionInfo": {
     "elapsed": 56204,
     "status": "ok",
     "timestamp": 1637427591159,
     "user": {
      "displayName": "Oleg Mosalov",
      "photoUrl": "https://lh3.googleusercontent.com/a-/AOh14Gho5LvO0-DMsmF0kUUFvDPLaw7rz4hB6NQ4ioUAvw=s64",
      "userId": "04469680880749721279"
     },
     "user_tz": -180
    },
    "id": "4kaTxvHf98it"
   },
   "outputs": [],
   "source": [
    "filename = '/content/drive/MyDrive/Colab Notebooks/edu_results.xlsx'\n",
    "\n",
    "data = load_data(filename)"
   ]
  },
  {
   "cell_type": "markdown",
   "metadata": {
    "id": "8EJHLQOn98jH"
   },
   "source": [
    "Удаляем точки в данных и пробелы. Приводим все значения к одному регистру"
   ]
  },
  {
   "cell_type": "code",
   "execution_count": 4,
   "metadata": {
    "executionInfo": {
     "elapsed": 56,
     "status": "ok",
     "timestamp": 1637427591171,
     "user": {
      "displayName": "Oleg Mosalov",
      "photoUrl": "https://lh3.googleusercontent.com/a-/AOh14Gho5LvO0-DMsmF0kUUFvDPLaw7rz4hB6NQ4ioUAvw=s64",
      "userId": "04469680880749721279"
     },
     "user_tz": -180
    },
    "id": "u_GRPiAx98jK"
   },
   "outputs": [],
   "source": [
    "new_data = data.copy()"
   ]
  },
  {
   "cell_type": "code",
   "execution_count": 5,
   "metadata": {
    "executionInfo": {
     "elapsed": 594,
     "status": "ok",
     "timestamp": 1637427591716,
     "user": {
      "displayName": "Oleg Mosalov",
      "photoUrl": "https://lh3.googleusercontent.com/a-/AOh14Gho5LvO0-DMsmF0kUUFvDPLaw7rz4hB6NQ4ioUAvw=s64",
      "userId": "04469680880749721279"
     },
     "user_tz": -180
    },
    "id": "hUeA-dQU98jN"
   },
   "outputs": [],
   "source": [
    "# Нужно использовать не просто replace, а str.replace!\n",
    "# Удалить внутренности скобок. Скобки приходится экранировать с помощью \\, иначе они считаются частью регулярного выражения.\n",
    "new_data['subj'] = new_data['subj'].str.replace('\\(.*\\)', '', regex=True)"
   ]
  },
  {
   "cell_type": "code",
   "execution_count": 6,
   "metadata": {
    "executionInfo": {
     "elapsed": 27,
     "status": "ok",
     "timestamp": 1637427591720,
     "user": {
      "displayName": "Oleg Mosalov",
      "photoUrl": "https://lh3.googleusercontent.com/a-/AOh14Gho5LvO0-DMsmF0kUUFvDPLaw7rz4hB6NQ4ioUAvw=s64",
      "userId": "04469680880749721279"
     },
     "user_tz": -180
    },
    "id": "jESL63iV98jU"
   },
   "outputs": [],
   "source": [
    "new_data['subj'] = new_data['subj'].str.replace('МДК', '', regex=True)"
   ]
  },
  {
   "cell_type": "code",
   "execution_count": 7,
   "metadata": {
    "executionInfo": {
     "elapsed": 1223,
     "status": "ok",
     "timestamp": 1637427592918,
     "user": {
      "displayName": "Oleg Mosalov",
      "photoUrl": "https://lh3.googleusercontent.com/a-/AOh14Gho5LvO0-DMsmF0kUUFvDPLaw7rz4hB6NQ4ioUAvw=s64",
      "userId": "04469680880749721279"
     },
     "user_tz": -180
    },
    "id": "6jUuWbyC98jZ",
    "scrolled": true
   },
   "outputs": [],
   "source": [
    "# Удалить цифры\n",
    "new_data['subj'] = new_data['subj'].str.replace('\\d+', '', regex=True)"
   ]
  },
  {
   "cell_type": "code",
   "execution_count": 8,
   "metadata": {
    "executionInfo": {
     "elapsed": 614,
     "status": "ok",
     "timestamp": 1637427593518,
     "user": {
      "displayName": "Oleg Mosalov",
      "photoUrl": "https://lh3.googleusercontent.com/a-/AOh14Gho5LvO0-DMsmF0kUUFvDPLaw7rz4hB6NQ4ioUAvw=s64",
      "userId": "04469680880749721279"
     },
     "user_tz": -180
    },
    "id": "CmC7L69598jc"
   },
   "outputs": [],
   "source": [
    "# Удаление точек\n",
    "new_data['subj'] = new_data['subj'].str.replace('\\.', '', regex=True)"
   ]
  },
  {
   "cell_type": "code",
   "execution_count": 9,
   "metadata": {
    "executionInfo": {
     "elapsed": 18,
     "status": "ok",
     "timestamp": 1637427593520,
     "user": {
      "displayName": "Oleg Mosalov",
      "photoUrl": "https://lh3.googleusercontent.com/a-/AOh14Gho5LvO0-DMsmF0kUUFvDPLaw7rz4hB6NQ4ioUAvw=s64",
      "userId": "04469680880749721279"
     },
     "user_tz": -180
    },
    "id": "T8ZjFetf98jb",
    "scrolled": true
   },
   "outputs": [],
   "source": [
    "# Удаление пробелов в начале и конце каждого значения\n",
    "new_data['subj'] = new_data['subj'].str.strip()"
   ]
  },
  {
   "cell_type": "code",
   "execution_count": 10,
   "metadata": {
    "executionInfo": {
     "elapsed": 543,
     "status": "ok",
     "timestamp": 1637427594052,
     "user": {
      "displayName": "Oleg Mosalov",
      "photoUrl": "https://lh3.googleusercontent.com/a-/AOh14Gho5LvO0-DMsmF0kUUFvDPLaw7rz4hB6NQ4ioUAvw=s64",
      "userId": "04469680880749721279"
     },
     "user_tz": -180
    },
    "id": "VjBPGYr598jd"
   },
   "outputs": [],
   "source": [
    "# Преведение к нижнем регистру\n",
    "# Тут тоже через str.lower!\n",
    "# Добавил присвоение\n",
    "new_data['subj'] = new_data['subj'].str.lower()"
   ]
  },
  {
   "cell_type": "code",
   "execution_count": 11,
   "metadata": {
    "executionInfo": {
     "elapsed": 27,
     "status": "ok",
     "timestamp": 1637427594053,
     "user": {
      "displayName": "Oleg Mosalov",
      "photoUrl": "https://lh3.googleusercontent.com/a-/AOh14Gho5LvO0-DMsmF0kUUFvDPLaw7rz4hB6NQ4ioUAvw=s64",
      "userId": "04469680880749721279"
     },
     "user_tz": -180
    },
    "id": "p9JixqnR98je"
   },
   "outputs": [],
   "source": [
    "del new_data['filial']"
   ]
  },
  {
   "cell_type": "code",
   "execution_count": 12,
   "metadata": {
    "executionInfo": {
     "elapsed": 28,
     "status": "ok",
     "timestamp": 1637427594056,
     "user": {
      "displayName": "Oleg Mosalov",
      "photoUrl": "https://lh3.googleusercontent.com/a-/AOh14Gho5LvO0-DMsmF0kUUFvDPLaw7rz4hB6NQ4ioUAvw=s64",
      "userId": "04469680880749721279"
     },
     "user_tz": -180
    },
    "id": "8bNbJHbu98jf"
   },
   "outputs": [],
   "source": [
    "del new_data['sttext']"
   ]
  },
  {
   "cell_type": "code",
   "execution_count": 13,
   "metadata": {
    "executionInfo": {
     "elapsed": 26,
     "status": "ok",
     "timestamp": 1637427594056,
     "user": {
      "displayName": "Oleg Mosalov",
      "photoUrl": "https://lh3.googleusercontent.com/a-/AOh14Gho5LvO0-DMsmF0kUUFvDPLaw7rz4hB6NQ4ioUAvw=s64",
      "userId": "04469680880749721279"
     },
     "user_tz": -180
    },
    "id": "TNuwxKjV98jh"
   },
   "outputs": [],
   "source": [
    "del new_data['formobtext']"
   ]
  },
  {
   "cell_type": "code",
   "execution_count": 14,
   "metadata": {
    "executionInfo": {
     "elapsed": 436,
     "status": "ok",
     "timestamp": 1637427594468,
     "user": {
      "displayName": "Oleg Mosalov",
      "photoUrl": "https://lh3.googleusercontent.com/a-/AOh14Gho5LvO0-DMsmF0kUUFvDPLaw7rz4hB6NQ4ioUAvw=s64",
      "userId": "04469680880749721279"
     },
     "user_tz": -180
    },
    "id": "6917my9I98ji"
   },
   "outputs": [],
   "source": [
    "del new_data['grouptext']"
   ]
  },
  {
   "cell_type": "code",
   "execution_count": 15,
   "metadata": {
    "executionInfo": {
     "elapsed": 13,
     "status": "ok",
     "timestamp": 1637427594469,
     "user": {
      "displayName": "Oleg Mosalov",
      "photoUrl": "https://lh3.googleusercontent.com/a-/AOh14Gho5LvO0-DMsmF0kUUFvDPLaw7rz4hB6NQ4ioUAvw=s64",
      "userId": "04469680880749721279"
     },
     "user_tz": -180
    },
    "id": "UWba1Ec698jj"
   },
   "outputs": [],
   "source": [
    "del new_data['yearin']"
   ]
  },
  {
   "cell_type": "markdown",
   "metadata": {
    "id": "v5C8q0oJ98jm"
   },
   "source": [
    "Преобразование предметов в колонки для анализа оценок по предметам. Если предмета нет, то -1"
   ]
  },
  {
   "cell_type": "code",
   "execution_count": 16,
   "metadata": {
    "executionInfo": {
     "elapsed": 838,
     "status": "ok",
     "timestamp": 1637427595295,
     "user": {
      "displayName": "Oleg Mosalov",
      "photoUrl": "https://lh3.googleusercontent.com/a-/AOh14Gho5LvO0-DMsmF0kUUFvDPLaw7rz4hB6NQ4ioUAvw=s64",
      "userId": "04469680880749721279"
     },
     "user_tz": -180
    },
    "id": "IE9vuOL898js"
   },
   "outputs": [],
   "source": [
    "new_data['mark'] = new_data['mark'].astype('str').str.replace('0', '1', regex=True).astype('int')"
   ]
  },
  {
   "cell_type": "code",
   "execution_count": 17,
   "metadata": {
    "executionInfo": {
     "elapsed": 16,
     "status": "ok",
     "timestamp": 1637427595296,
     "user": {
      "displayName": "Oleg Mosalov",
      "photoUrl": "https://lh3.googleusercontent.com/a-/AOh14Gho5LvO0-DMsmF0kUUFvDPLaw7rz4hB6NQ4ioUAvw=s64",
      "userId": "04469680880749721279"
     },
     "user_tz": -180
    },
    "id": "zwv_mEoL98jv"
   },
   "outputs": [],
   "source": [
    "# Замена оценок, которые больше 5, на 1\n",
    "new_data[new_data['mark'] > 5] = 1"
   ]
  },
  {
   "cell_type": "code",
   "execution_count": 18,
   "metadata": {
    "executionInfo": {
     "elapsed": 14364,
     "status": "ok",
     "timestamp": 1637427609647,
     "user": {
      "displayName": "Oleg Mosalov",
      "photoUrl": "https://lh3.googleusercontent.com/a-/AOh14Gho5LvO0-DMsmF0kUUFvDPLaw7rz4hB6NQ4ioUAvw=s64",
      "userId": "04469680880749721279"
     },
     "user_tz": -180
    },
    "id": "hz3LzyAG98j2"
   },
   "outputs": [],
   "source": [
    "# One-hot-encoding столбца subj\n",
    "new_data = new_data.join(pd.get_dummies(new_data.subj, prefix='subj'))"
   ]
  },
  {
   "cell_type": "code",
   "execution_count": 19,
   "metadata": {
    "colab": {
     "base_uri": "https://localhost:8080/"
    },
    "executionInfo": {
     "elapsed": 52,
     "status": "ok",
     "timestamp": 1637427609648,
     "user": {
      "displayName": "Oleg Mosalov",
      "photoUrl": "https://lh3.googleusercontent.com/a-/AOh14Gho5LvO0-DMsmF0kUUFvDPLaw7rz4hB6NQ4ioUAvw=s64",
      "userId": "04469680880749721279"
     },
     "user_tz": -180
    },
    "id": "v9xZciBo98j5",
    "outputId": "1023695e-989d-4288-9371-8ae3fc746e58"
   },
   "outputs": [
    {
     "data": {
      "text/plain": [
       "(661764, 1565)"
      ]
     },
     "execution_count": 19,
     "metadata": {},
     "output_type": "execute_result"
    }
   ],
   "source": [
    "# Размер таблицы после one-hot-encoding\n",
    "new_data.shape"
   ]
  },
  {
   "cell_type": "code",
   "execution_count": 20,
   "metadata": {
    "executionInfo": {
     "elapsed": 43,
     "status": "ok",
     "timestamp": 1637427609650,
     "user": {
      "displayName": "Oleg Mosalov",
      "photoUrl": "https://lh3.googleusercontent.com/a-/AOh14Gho5LvO0-DMsmF0kUUFvDPLaw7rz4hB6NQ4ioUAvw=s64",
      "userId": "04469680880749721279"
     },
     "user_tz": -180
    },
    "id": "_NmSUyA8A-EP"
   },
   "outputs": [],
   "source": [
    "# Умножение Названий предметов на оценку"
   ]
  },
  {
   "cell_type": "code",
   "execution_count": 21,
   "metadata": {
    "colab": {
     "base_uri": "https://localhost:8080/"
    },
    "executionInfo": {
     "elapsed": 43,
     "status": "ok",
     "timestamp": 1637427609652,
     "user": {
      "displayName": "Oleg Mosalov",
      "photoUrl": "https://lh3.googleusercontent.com/a-/AOh14Gho5LvO0-DMsmF0kUUFvDPLaw7rz4hB6NQ4ioUAvw=s64",
      "userId": "04469680880749721279"
     },
     "user_tz": -180
    },
    "id": "8tVz1eue98j5",
    "outputId": "d845445e-4f73-42e6-e229-2c6a2d1c6075"
   },
   "outputs": [
    {
     "name": "stdout",
     "output_type": "stream",
     "text": [
      "[False False False ...  True  True  True]\n",
      "1565\n"
     ]
    }
   ],
   "source": [
    "cols = new_data.columns.str.startswith('subj_')\n",
    "print(cols)\n",
    "print(len(cols))"
   ]
  },
  {
   "cell_type": "code",
   "execution_count": 22,
   "metadata": {
    "colab": {
     "base_uri": "https://localhost:8080/"
    },
    "executionInfo": {
     "elapsed": 221296,
     "status": "ok",
     "timestamp": 1637427830911,
     "user": {
      "displayName": "Oleg Mosalov",
      "photoUrl": "https://lh3.googleusercontent.com/a-/AOh14Gho5LvO0-DMsmF0kUUFvDPLaw7rz4hB6NQ4ioUAvw=s64",
      "userId": "04469680880749721279"
     },
     "user_tz": -180
    },
    "id": "a09d-q7698j6",
    "outputId": "7a9ee49e-e052-4a01-913b-b9ceed0c1697",
    "scrolled": true
   },
   "outputs": [
    {
     "name": "stderr",
     "output_type": "stream",
     "text": [
      "100%|██████████| 1561/1561 [03:41<00:00,  7.05it/s]\n"
     ]
    }
   ],
   "source": [
    "from tqdm import tqdm\n",
    "\n",
    "for c in tqdm(new_data.columns[cols]):\n",
    "    new_data[c] = new_data[c].astype('int').multiply(new_data['mark'], axis=0)"
   ]
  },
  {
   "cell_type": "code",
   "execution_count": 23,
   "metadata": {
    "executionInfo": {
     "elapsed": 81,
     "status": "ok",
     "timestamp": 1637427830916,
     "user": {
      "displayName": "Oleg Mosalov",
      "photoUrl": "https://lh3.googleusercontent.com/a-/AOh14Gho5LvO0-DMsmF0kUUFvDPLaw7rz4hB6NQ4ioUAvw=s64",
      "userId": "04469680880749721279"
     },
     "user_tz": -180
    },
    "id": "scM6L03398kB"
   },
   "outputs": [],
   "source": [
    "# Группировка данных по студенту/семестру\n",
    "#new_data1 = new_data.groupby(['hash', 'sem']).sum()"
   ]
  },
  {
   "cell_type": "code",
   "execution_count": 24,
   "metadata": {
    "executionInfo": {
     "elapsed": 62,
     "status": "ok",
     "timestamp": 1637427830919,
     "user": {
      "displayName": "Oleg Mosalov",
      "photoUrl": "https://lh3.googleusercontent.com/a-/AOh14Gho5LvO0-DMsmF0kUUFvDPLaw7rz4hB6NQ4ioUAvw=s64",
      "userId": "04469680880749721279"
     },
     "user_tz": -180
    },
    "id": "4XS63Ae5FUMX"
   },
   "outputs": [],
   "source": [
    "#!python -m pip install 'fsspec>=0.3.3'"
   ]
  },
  {
   "cell_type": "code",
   "execution_count": 25,
   "metadata": {
    "executionInfo": {
     "elapsed": 12758,
     "status": "ok",
     "timestamp": 1637427843618,
     "user": {
      "displayName": "Oleg Mosalov",
      "photoUrl": "https://lh3.googleusercontent.com/a-/AOh14Gho5LvO0-DMsmF0kUUFvDPLaw7rz4hB6NQ4ioUAvw=s64",
      "userId": "04469680880749721279"
     },
     "user_tz": -180
    },
    "id": "g99c8iQfBdcG"
   },
   "outputs": [],
   "source": [
    "import dask.dataframe as dd\n",
    "new_data_1 = dd.from_pandas(new_data, npartitions=3)"
   ]
  },
  {
   "cell_type": "code",
   "execution_count": 26,
   "metadata": {
    "executionInfo": {
     "elapsed": 136,
     "status": "ok",
     "timestamp": 1637427843621,
     "user": {
      "displayName": "Oleg Mosalov",
      "photoUrl": "https://lh3.googleusercontent.com/a-/AOh14Gho5LvO0-DMsmF0kUUFvDPLaw7rz4hB6NQ4ioUAvw=s64",
      "userId": "04469680880749721279"
     },
     "user_tz": -180
    },
    "id": "Bj-S39SXFggR"
   },
   "outputs": [],
   "source": [
    "result = new_data_1.groupby(['hash', 'sem']).sum()"
   ]
  },
  {
   "cell_type": "code",
   "execution_count": null,
   "metadata": {
    "id": "z0usIT8YSRzn"
   },
   "outputs": [],
   "source": [
    "result = result.compute()"
   ]
  },
  {
   "cell_type": "code",
   "execution_count": null,
   "metadata": {
    "id": "IZSvpBCbRP3Y"
   },
   "outputs": [],
   "source": [
    "#result.to_csv('/content/drive/MyDrive/Colab Notebooks/test1-*.csv')"
   ]
  }
 ],
 "metadata": {
  "colab": {
   "collapsed_sections": [],
   "name": "Копия блокнота \"stud (20.11.2021).ipynb\"",
   "provenance": [
    {
     "file_id": "1UbrUN-yJtVGXMGgfe-CNQuRDD1a09RjC",
     "timestamp": 1637427882017
    }
   ]
  },
  "kernelspec": {
   "display_name": "Python 3",
   "language": "python",
   "name": "python3"
  },
  "language_info": {
   "codemirror_mode": {
    "name": "ipython",
    "version": 3
   },
   "file_extension": ".py",
   "mimetype": "text/x-python",
   "name": "python",
   "nbconvert_exporter": "python",
   "pygments_lexer": "ipython3",
   "version": "3.6.13"
  }
 },
 "nbformat": 4,
 "nbformat_minor": 1
}
