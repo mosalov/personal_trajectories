{
 "cells": [
  {
   "cell_type": "code",
   "execution_count": 20,
   "metadata": {},
   "outputs": [],
   "source": [
    "import pandas as pd\n",
    "import matplotlib.pyplot as plt"
   ]
  },
  {
   "cell_type": "code",
   "execution_count": 2,
   "metadata": {},
   "outputs": [],
   "source": [
    "def load_data(filename):\n",
    "    df = pd.read_excel(filename)\n",
    "    return df"
   ]
  },
  {
   "cell_type": "code",
   "execution_count": 3,
   "metadata": {},
   "outputs": [],
   "source": [
    "filename = 'выгрузка_14_9.xlsx'\n",
    "\n",
    "data = load_data(filename)"
   ]
  },
  {
   "cell_type": "code",
   "execution_count": 4,
   "metadata": {
    "scrolled": true
   },
   "outputs": [
    {
     "data": {
      "text/html": [
       "<div>\n",
       "<style scoped>\n",
       "    .dataframe tbody tr th:only-of-type {\n",
       "        vertical-align: middle;\n",
       "    }\n",
       "\n",
       "    .dataframe tbody tr th {\n",
       "        vertical-align: top;\n",
       "    }\n",
       "\n",
       "    .dataframe thead th {\n",
       "        text-align: right;\n",
       "    }\n",
       "</style>\n",
       "<table border=\"1\" class=\"dataframe\">\n",
       "  <thead>\n",
       "    <tr style=\"text-align: right;\">\n",
       "      <th></th>\n",
       "      <th>filial</th>\n",
       "      <th>hash</th>\n",
       "      <th>formob</th>\n",
       "      <th>sem</th>\n",
       "      <th>subj</th>\n",
       "      <th>mark</th>\n",
       "    </tr>\n",
       "  </thead>\n",
       "  <tbody>\n",
       "    <tr>\n",
       "      <th>0</th>\n",
       "      <td>ККМТ</td>\n",
       "      <td>0x00024F3F16EC07953C1E382DC4DCED1C4223543E</td>\n",
       "      <td>очная</td>\n",
       "      <td>1</td>\n",
       "      <td>Биология</td>\n",
       "      <td>4</td>\n",
       "    </tr>\n",
       "    <tr>\n",
       "      <th>1</th>\n",
       "      <td>ККМТ</td>\n",
       "      <td>0x00024F3F16EC07953C1E382DC4DCED1C4223543E</td>\n",
       "      <td>очная</td>\n",
       "      <td>1</td>\n",
       "      <td>Введение в специальность</td>\n",
       "      <td>5</td>\n",
       "    </tr>\n",
       "    <tr>\n",
       "      <th>2</th>\n",
       "      <td>ККМТ</td>\n",
       "      <td>0x00024F3F16EC07953C1E382DC4DCED1C4223543E</td>\n",
       "      <td>очная</td>\n",
       "      <td>1</td>\n",
       "      <td>Иностранный язык.</td>\n",
       "      <td>5</td>\n",
       "    </tr>\n",
       "    <tr>\n",
       "      <th>3</th>\n",
       "      <td>ККМТ</td>\n",
       "      <td>0x00024F3F16EC07953C1E382DC4DCED1C4223543E</td>\n",
       "      <td>очная</td>\n",
       "      <td>1</td>\n",
       "      <td>Информатика.</td>\n",
       "      <td>4</td>\n",
       "    </tr>\n",
       "    <tr>\n",
       "      <th>4</th>\n",
       "      <td>ККМТ</td>\n",
       "      <td>0x00024F3F16EC07953C1E382DC4DCED1C4223543E</td>\n",
       "      <td>очная</td>\n",
       "      <td>1</td>\n",
       "      <td>История.</td>\n",
       "      <td>4</td>\n",
       "    </tr>\n",
       "    <tr>\n",
       "      <th>...</th>\n",
       "      <td>...</td>\n",
       "      <td>...</td>\n",
       "      <td>...</td>\n",
       "      <td>...</td>\n",
       "      <td>...</td>\n",
       "      <td>...</td>\n",
       "    </tr>\n",
       "    <tr>\n",
       "      <th>661807</th>\n",
       "      <td>МГОТУ</td>\n",
       "      <td>0xFFFE35C2411F573C6E32C2528DDD8E1489C03792</td>\n",
       "      <td>очная</td>\n",
       "      <td>9</td>\n",
       "      <td>Разработка управленческих решений</td>\n",
       "      <td>5</td>\n",
       "    </tr>\n",
       "    <tr>\n",
       "      <th>661808</th>\n",
       "      <td>МГОТУ</td>\n",
       "      <td>0xFFFE35C2411F573C6E32C2528DDD8E1489C03792</td>\n",
       "      <td>очная</td>\n",
       "      <td>9</td>\n",
       "      <td>Уголовное право</td>\n",
       "      <td>5</td>\n",
       "    </tr>\n",
       "    <tr>\n",
       "      <th>661809</th>\n",
       "      <td>МГОТУ</td>\n",
       "      <td>0xFFFE35C2411F573C6E32C2528DDD8E1489C03792</td>\n",
       "      <td>очная</td>\n",
       "      <td>9</td>\n",
       "      <td>Управление таможенной деятельностью</td>\n",
       "      <td>5</td>\n",
       "    </tr>\n",
       "    <tr>\n",
       "      <th>661810</th>\n",
       "      <td>МГОТУ</td>\n",
       "      <td>0xFFFE35C2411F573C6E32C2528DDD8E1489C03792</td>\n",
       "      <td>очная</td>\n",
       "      <td>10</td>\n",
       "      <td>производственная: научно-исследовательская работа</td>\n",
       "      <td>5</td>\n",
       "    </tr>\n",
       "    <tr>\n",
       "      <th>661811</th>\n",
       "      <td>МГОТУ</td>\n",
       "      <td>0xFFFE35C2411F573C6E32C2528DDD8E1489C03792</td>\n",
       "      <td>очная</td>\n",
       "      <td>10</td>\n",
       "      <td>производственная: преддипломная практика</td>\n",
       "      <td>5</td>\n",
       "    </tr>\n",
       "  </tbody>\n",
       "</table>\n",
       "<p>661812 rows × 6 columns</p>\n",
       "</div>"
      ],
      "text/plain": [
       "       filial                                        hash formob  sem  \\\n",
       "0        ККМТ  0x00024F3F16EC07953C1E382DC4DCED1C4223543E  очная    1   \n",
       "1        ККМТ  0x00024F3F16EC07953C1E382DC4DCED1C4223543E  очная    1   \n",
       "2        ККМТ  0x00024F3F16EC07953C1E382DC4DCED1C4223543E  очная    1   \n",
       "3        ККМТ  0x00024F3F16EC07953C1E382DC4DCED1C4223543E  очная    1   \n",
       "4        ККМТ  0x00024F3F16EC07953C1E382DC4DCED1C4223543E  очная    1   \n",
       "...       ...                                         ...    ...  ...   \n",
       "661807  МГОТУ  0xFFFE35C2411F573C6E32C2528DDD8E1489C03792  очная    9   \n",
       "661808  МГОТУ  0xFFFE35C2411F573C6E32C2528DDD8E1489C03792  очная    9   \n",
       "661809  МГОТУ  0xFFFE35C2411F573C6E32C2528DDD8E1489C03792  очная    9   \n",
       "661810  МГОТУ  0xFFFE35C2411F573C6E32C2528DDD8E1489C03792  очная   10   \n",
       "661811  МГОТУ  0xFFFE35C2411F573C6E32C2528DDD8E1489C03792  очная   10   \n",
       "\n",
       "                                                     subj  mark  \n",
       "0                                                Биология     4  \n",
       "1                                Введение в специальность     5  \n",
       "2                                       Иностранный язык.     5  \n",
       "3                                            Информатика.     4  \n",
       "4                                                История.     4  \n",
       "...                                                   ...   ...  \n",
       "661807                  Разработка управленческих решений     5  \n",
       "661808                                    Уголовное право     5  \n",
       "661809                Управление таможенной деятельностью     5  \n",
       "661810  производственная: научно-исследовательская работа     5  \n",
       "661811           производственная: преддипломная практика     5  \n",
       "\n",
       "[661812 rows x 6 columns]"
      ]
     },
     "execution_count": 4,
     "metadata": {},
     "output_type": "execute_result"
    }
   ],
   "source": [
    "data"
   ]
  },
  {
   "cell_type": "code",
   "execution_count": 8,
   "metadata": {
    "scrolled": false
   },
   "outputs": [
    {
     "data": {
      "text/plain": [
       "array(['ККМТ', 'МГОТУ', 'ТТД'], dtype=object)"
      ]
     },
     "execution_count": 8,
     "metadata": {},
     "output_type": "execute_result"
    }
   ],
   "source": [
    "data['filial'].unique()"
   ]
  },
  {
   "cell_type": "code",
   "execution_count": 14,
   "metadata": {},
   "outputs": [
    {
     "data": {
      "text/plain": [
       "array(['очная', 'заочная', 'очно-заочная'], dtype=object)"
      ]
     },
     "execution_count": 14,
     "metadata": {},
     "output_type": "execute_result"
    }
   ],
   "source": [
    "data['formob'].unique()"
   ]
  },
  {
   "cell_type": "code",
   "execution_count": 15,
   "metadata": {
    "scrolled": true
   },
   "outputs": [
    {
     "data": {
      "text/plain": [
       "array([ 1,  2,  3,  4,  5,  6,  7,  8,  9, 10, 11, 12], dtype=int64)"
      ]
     },
     "execution_count": 15,
     "metadata": {},
     "output_type": "execute_result"
    }
   ],
   "source": [
    "data['sem'].unique()"
   ]
  },
  {
   "cell_type": "code",
   "execution_count": 19,
   "metadata": {
    "scrolled": true
   },
   "outputs": [
    {
     "data": {
      "text/plain": [
       "array([ 4,  5,  3,  0,  2, 60, 79, 82], dtype=int64)"
      ]
     },
     "execution_count": 19,
     "metadata": {},
     "output_type": "execute_result"
    }
   ],
   "source": [
    "data['mark'].unique()"
   ]
  },
  {
   "cell_type": "code",
   "execution_count": 32,
   "metadata": {
    "scrolled": true
   },
   "outputs": [
    {
     "name": "stdout",
     "output_type": "stream",
     "text": [
      "4  -  82449\n",
      "5  -  164065\n",
      "3  -  50922\n",
      "0  -  345424\n",
      "2  -  18949\n",
      "60  -  1\n",
      "79  -  1\n",
      "82  -  1\n"
     ]
    }
   ],
   "source": [
    "len(data['mark'])\n",
    "for i in data['mark'].unique():\n",
    "    len_i = len(data[data['mark'] == i])\n",
    "    print(i, \" - \", len_i)"
   ]
  },
  {
   "cell_type": "code",
   "execution_count": 38,
   "metadata": {},
   "outputs": [
    {
     "data": {
      "text/plain": [
       "(array([345424.,      0.,  18949.,  50922.,  82449., 164065.]),\n",
       " array([0.        , 0.83333333, 1.66666667, 2.5       , 3.33333333,\n",
       "        4.16666667, 5.        ]),\n",
       " <BarContainer object of 6 artists>)"
      ]
     },
     "execution_count": 38,
     "metadata": {},
     "output_type": "execute_result"
    },
    {
     "data": {
      "image/png": "[encoded data removed]",
      "text/plain": [
       "<Figure size 432x288 with 1 Axes>"
      ]
     },
     "metadata": {
      "needs_background": "light"
     },
     "output_type": "display_data"
    }
   ],
   "source": [
    "plt.hist(data[data['mark'] <= 5]['mark'], bins=6)"
   ]
  },
  {
   "cell_type": "code",
   "execution_count": 16,
   "metadata": {
    "scrolled": false
   },
   "outputs": [
    {
     "data": {
      "text/plain": [
       "array(['Биология', 'Введение в специальность', 'Иностранный язык.', ...,\n",
       "       'Методы развития креативности',\n",
       "       'Организация проектной и архитектурно-дизайнерской деятельности',\n",
       "       'Основы технологии производства машин и оборудования'],\n",
       "      dtype=object)"
      ]
     },
     "execution_count": 16,
     "metadata": {},
     "output_type": "execute_result"
    }
   ],
   "source": [
    "data['subj'].unique()"
   ]
  },
  {
   "cell_type": "code",
   "execution_count": 17,
   "metadata": {},
   "outputs": [
    {
     "data": {
      "text/plain": [
       "1664"
      ]
     },
     "execution_count": 17,
     "metadata": {},
     "output_type": "execute_result"
    }
   ],
   "source": [
    "len(data['subj'].unique())"
   ]
  },
  {
   "cell_type": "code",
   "execution_count": 18,
   "metadata": {},
   "outputs": [
    {
     "data": {
      "text/plain": [
       "10438"
      ]
     },
     "execution_count": 18,
     "metadata": {},
     "output_type": "execute_result"
    }
   ],
   "source": [
    "len(data['hash'].unique())"
   ]
  },
  {
   "cell_type": "code",
   "execution_count": 12,
   "metadata": {
    "scrolled": true
   },
   "outputs": [
    {
     "data": {
      "text/plain": [
       "array(['0x00024F3F16EC07953C1E382DC4DCED1C4223543E',\n",
       "       '0x00051C50C1C11573589133B9259839169D4FECD5',\n",
       "       '0x0006D35580BB40FA8DD6B81E4DF101AC7C5C6367'], dtype=object)"
      ]
     },
     "execution_count": 12,
     "metadata": {},
     "output_type": "execute_result"
    }
   ],
   "source": [
    "data[:200]['hash'].unique()"
   ]
  },
  {
   "cell_type": "code",
   "execution_count": 13,
   "metadata": {},
   "outputs": [
    {
     "data": {
      "text/html": [
       "<div>\n",
       "<style scoped>\n",
       "    .dataframe tbody tr th:only-of-type {\n",
       "        vertical-align: middle;\n",
       "    }\n",
       "\n",
       "    .dataframe tbody tr th {\n",
       "        vertical-align: top;\n",
       "    }\n",
       "\n",
       "    .dataframe thead th {\n",
       "        text-align: right;\n",
       "    }\n",
       "</style>\n",
       "<table border=\"1\" class=\"dataframe\">\n",
       "  <thead>\n",
       "    <tr style=\"text-align: right;\">\n",
       "      <th></th>\n",
       "      <th>filial</th>\n",
       "      <th>hash</th>\n",
       "      <th>formob</th>\n",
       "      <th>sem</th>\n",
       "      <th>subj</th>\n",
       "      <th>mark</th>\n",
       "    </tr>\n",
       "  </thead>\n",
       "  <tbody>\n",
       "    <tr>\n",
       "      <th>0</th>\n",
       "      <td>ККМТ</td>\n",
       "      <td>0x00024F3F16EC07953C1E382DC4DCED1C4223543E</td>\n",
       "      <td>очная</td>\n",
       "      <td>1</td>\n",
       "      <td>Биология</td>\n",
       "      <td>4</td>\n",
       "    </tr>\n",
       "    <tr>\n",
       "      <th>1</th>\n",
       "      <td>ККМТ</td>\n",
       "      <td>0x00024F3F16EC07953C1E382DC4DCED1C4223543E</td>\n",
       "      <td>очная</td>\n",
       "      <td>1</td>\n",
       "      <td>Введение в специальность</td>\n",
       "      <td>5</td>\n",
       "    </tr>\n",
       "    <tr>\n",
       "      <th>2</th>\n",
       "      <td>ККМТ</td>\n",
       "      <td>0x00024F3F16EC07953C1E382DC4DCED1C4223543E</td>\n",
       "      <td>очная</td>\n",
       "      <td>1</td>\n",
       "      <td>Иностранный язык.</td>\n",
       "      <td>5</td>\n",
       "    </tr>\n",
       "    <tr>\n",
       "      <th>3</th>\n",
       "      <td>ККМТ</td>\n",
       "      <td>0x00024F3F16EC07953C1E382DC4DCED1C4223543E</td>\n",
       "      <td>очная</td>\n",
       "      <td>1</td>\n",
       "      <td>Информатика.</td>\n",
       "      <td>4</td>\n",
       "    </tr>\n",
       "    <tr>\n",
       "      <th>4</th>\n",
       "      <td>ККМТ</td>\n",
       "      <td>0x00024F3F16EC07953C1E382DC4DCED1C4223543E</td>\n",
       "      <td>очная</td>\n",
       "      <td>1</td>\n",
       "      <td>История.</td>\n",
       "      <td>4</td>\n",
       "    </tr>\n",
       "    <tr>\n",
       "      <th>...</th>\n",
       "      <td>...</td>\n",
       "      <td>...</td>\n",
       "      <td>...</td>\n",
       "      <td>...</td>\n",
       "      <td>...</td>\n",
       "      <td>...</td>\n",
       "    </tr>\n",
       "    <tr>\n",
       "      <th>195</th>\n",
       "      <td>ККМТ</td>\n",
       "      <td>0x0006D35580BB40FA8DD6B81E4DF101AC7C5C6367</td>\n",
       "      <td>очная</td>\n",
       "      <td>3</td>\n",
       "      <td>Процессы формообразования и инструменты</td>\n",
       "      <td>3</td>\n",
       "    </tr>\n",
       "    <tr>\n",
       "      <th>196</th>\n",
       "      <td>ККМТ</td>\n",
       "      <td>0x0006D35580BB40FA8DD6B81E4DF101AC7C5C6367</td>\n",
       "      <td>очная</td>\n",
       "      <td>3</td>\n",
       "      <td>Техническая механика</td>\n",
       "      <td>3</td>\n",
       "    </tr>\n",
       "    <tr>\n",
       "      <th>197</th>\n",
       "      <td>ККМТ</td>\n",
       "      <td>0x0006D35580BB40FA8DD6B81E4DF101AC7C5C6367</td>\n",
       "      <td>очная</td>\n",
       "      <td>3</td>\n",
       "      <td>Технологическое оборудование</td>\n",
       "      <td>4</td>\n",
       "    </tr>\n",
       "    <tr>\n",
       "      <th>198</th>\n",
       "      <td>ККМТ</td>\n",
       "      <td>0x0006D35580BB40FA8DD6B81E4DF101AC7C5C6367</td>\n",
       "      <td>очная</td>\n",
       "      <td>3</td>\n",
       "      <td>Технология машиностроения</td>\n",
       "      <td>3</td>\n",
       "    </tr>\n",
       "    <tr>\n",
       "      <th>199</th>\n",
       "      <td>ККМТ</td>\n",
       "      <td>0x0006D35580BB40FA8DD6B81E4DF101AC7C5C6367</td>\n",
       "      <td>очная</td>\n",
       "      <td>3</td>\n",
       "      <td>Физическая культура</td>\n",
       "      <td>5</td>\n",
       "    </tr>\n",
       "  </tbody>\n",
       "</table>\n",
       "<p>200 rows × 6 columns</p>\n",
       "</div>"
      ],
      "text/plain": [
       "    filial                                        hash formob  sem  \\\n",
       "0     ККМТ  0x00024F3F16EC07953C1E382DC4DCED1C4223543E  очная    1   \n",
       "1     ККМТ  0x00024F3F16EC07953C1E382DC4DCED1C4223543E  очная    1   \n",
       "2     ККМТ  0x00024F3F16EC07953C1E382DC4DCED1C4223543E  очная    1   \n",
       "3     ККМТ  0x00024F3F16EC07953C1E382DC4DCED1C4223543E  очная    1   \n",
       "4     ККМТ  0x00024F3F16EC07953C1E382DC4DCED1C4223543E  очная    1   \n",
       "..     ...                                         ...    ...  ...   \n",
       "195   ККМТ  0x0006D35580BB40FA8DD6B81E4DF101AC7C5C6367  очная    3   \n",
       "196   ККМТ  0x0006D35580BB40FA8DD6B81E4DF101AC7C5C6367  очная    3   \n",
       "197   ККМТ  0x0006D35580BB40FA8DD6B81E4DF101AC7C5C6367  очная    3   \n",
       "198   ККМТ  0x0006D35580BB40FA8DD6B81E4DF101AC7C5C6367  очная    3   \n",
       "199   ККМТ  0x0006D35580BB40FA8DD6B81E4DF101AC7C5C6367  очная    3   \n",
       "\n",
       "                                        subj  mark  \n",
       "0                                   Биология     4  \n",
       "1                   Введение в специальность     5  \n",
       "2                          Иностранный язык.     5  \n",
       "3                               Информатика.     4  \n",
       "4                                   История.     4  \n",
       "..                                       ...   ...  \n",
       "195  Процессы формообразования и инструменты     3  \n",
       "196                     Техническая механика     3  \n",
       "197             Технологическое оборудование     4  \n",
       "198                Технология машиностроения     3  \n",
       "199                      Физическая культура     5  \n",
       "\n",
       "[200 rows x 6 columns]"
      ]
     },
     "execution_count": 13,
     "metadata": {},
     "output_type": "execute_result"
    }
   ],
   "source": [
    "data[:200]"
   ]
  }
 ],
 "metadata": {
  "kernelspec": {
   "display_name": "Python 3",
   "language": "python",
   "name": "python3"
  },
  "language_info": {
   "codemirror_mode": {
    "name": "ipython",
    "version": 3
   },
   "file_extension": ".py",
   "mimetype": "text/x-python",
   "name": "python",
   "nbconvert_exporter": "python",
   "pygments_lexer": "ipython3",
   "version": "3.6.12"
  }
 },
 "nbformat": 4,
 "nbformat_minor": 4
}
